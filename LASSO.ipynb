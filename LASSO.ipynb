{
 "cells": [
  {
   "cell_type": "code",
   "execution_count": 1,
   "metadata": {},
   "outputs": [],
   "source": [
    "import numpy as np\n",
    "import pandas as pd\n",
    "import matplotlib.pyplot as plt\n",
    "import sklearn.linear_model\n",
    "#estandarizacion:\n",
    "import sklearn.preprocessing \n",
    "\n",
    "%matplotlib inline"
   ]
  },
  {
   "cell_type": "markdown",
   "metadata": {},
   "source": [
    "# Lectura de datos"
   ]
  },
  {
   "cell_type": "code",
   "execution_count": 2,
   "metadata": {},
   "outputs": [],
   "source": [
    "data = pd.read_csv('Cars93.csv')"
   ]
  },
  {
   "cell_type": "code",
   "execution_count": 3,
   "metadata": {},
   "outputs": [
    {
     "data": {
      "text/html": [
       "<div>\n",
       "<style scoped>\n",
       "    .dataframe tbody tr th:only-of-type {\n",
       "        vertical-align: middle;\n",
       "    }\n",
       "\n",
       "    .dataframe tbody tr th {\n",
       "        vertical-align: top;\n",
       "    }\n",
       "\n",
       "    .dataframe thead th {\n",
       "        text-align: right;\n",
       "    }\n",
       "</style>\n",
       "<table border=\"1\" class=\"dataframe\">\n",
       "  <thead>\n",
       "    <tr style=\"text-align: right;\">\n",
       "      <th></th>\n",
       "      <th>Unnamed: 0</th>\n",
       "      <th>Manufacturer</th>\n",
       "      <th>Model</th>\n",
       "      <th>Type</th>\n",
       "      <th>Min.Price</th>\n",
       "      <th>Price</th>\n",
       "      <th>Max.Price</th>\n",
       "      <th>MPG.city</th>\n",
       "      <th>MPG.highway</th>\n",
       "      <th>AirBags</th>\n",
       "      <th>...</th>\n",
       "      <th>Passengers</th>\n",
       "      <th>Length</th>\n",
       "      <th>Wheelbase</th>\n",
       "      <th>Width</th>\n",
       "      <th>Turn.circle</th>\n",
       "      <th>Rear.seat.room</th>\n",
       "      <th>Luggage.room</th>\n",
       "      <th>Weight</th>\n",
       "      <th>Origin</th>\n",
       "      <th>Make</th>\n",
       "    </tr>\n",
       "  </thead>\n",
       "  <tbody>\n",
       "    <tr>\n",
       "      <td>0</td>\n",
       "      <td>1</td>\n",
       "      <td>Acura</td>\n",
       "      <td>Integra</td>\n",
       "      <td>Small</td>\n",
       "      <td>12.9</td>\n",
       "      <td>15.9</td>\n",
       "      <td>18.8</td>\n",
       "      <td>25</td>\n",
       "      <td>31</td>\n",
       "      <td>None</td>\n",
       "      <td>...</td>\n",
       "      <td>5</td>\n",
       "      <td>177</td>\n",
       "      <td>102</td>\n",
       "      <td>68</td>\n",
       "      <td>37</td>\n",
       "      <td>26.5</td>\n",
       "      <td>11.0</td>\n",
       "      <td>2705</td>\n",
       "      <td>non-USA</td>\n",
       "      <td>Acura Integra</td>\n",
       "    </tr>\n",
       "    <tr>\n",
       "      <td>1</td>\n",
       "      <td>2</td>\n",
       "      <td>Acura</td>\n",
       "      <td>Legend</td>\n",
       "      <td>Midsize</td>\n",
       "      <td>29.2</td>\n",
       "      <td>33.9</td>\n",
       "      <td>38.7</td>\n",
       "      <td>18</td>\n",
       "      <td>25</td>\n",
       "      <td>Driver &amp; Passenger</td>\n",
       "      <td>...</td>\n",
       "      <td>5</td>\n",
       "      <td>195</td>\n",
       "      <td>115</td>\n",
       "      <td>71</td>\n",
       "      <td>38</td>\n",
       "      <td>30.0</td>\n",
       "      <td>15.0</td>\n",
       "      <td>3560</td>\n",
       "      <td>non-USA</td>\n",
       "      <td>Acura Legend</td>\n",
       "    </tr>\n",
       "  </tbody>\n",
       "</table>\n",
       "<p>2 rows × 28 columns</p>\n",
       "</div>"
      ],
      "text/plain": [
       "   Unnamed: 0 Manufacturer    Model     Type  Min.Price  Price  Max.Price  \\\n",
       "0           1        Acura  Integra    Small       12.9   15.9       18.8   \n",
       "1           2        Acura   Legend  Midsize       29.2   33.9       38.7   \n",
       "\n",
       "   MPG.city  MPG.highway             AirBags  ... Passengers Length  \\\n",
       "0        25           31                None  ...          5    177   \n",
       "1        18           25  Driver & Passenger  ...          5    195   \n",
       "\n",
       "   Wheelbase  Width  Turn.circle  Rear.seat.room Luggage.room  Weight  \\\n",
       "0        102     68           37            26.5         11.0    2705   \n",
       "1        115     71           38            30.0         15.0    3560   \n",
       "\n",
       "    Origin           Make  \n",
       "0  non-USA  Acura Integra  \n",
       "1  non-USA   Acura Legend  \n",
       "\n",
       "[2 rows x 28 columns]"
      ]
     },
     "execution_count": 3,
     "metadata": {},
     "output_type": "execute_result"
    }
   ],
   "source": [
    "data[:2]"
   ]
  },
  {
   "cell_type": "markdown",
   "metadata": {},
   "source": [
    "# Selección de target y predictores"
   ]
  },
  {
   "cell_type": "code",
   "execution_count": 4,
   "metadata": {},
   "outputs": [
    {
     "name": "stdout",
     "output_type": "stream",
     "text": [
      "Index(['Unnamed: 0', 'Manufacturer', 'Model', 'Type', 'Min.Price', 'Price',\n",
      "       'Max.Price', 'MPG.city', 'MPG.highway', 'AirBags', 'DriveTrain',\n",
      "       'Cylinders', 'EngineSize', 'Horsepower', 'RPM', 'Rev.per.mile',\n",
      "       'Man.trans.avail', 'Fuel.tank.capacity', 'Passengers', 'Length',\n",
      "       'Wheelbase', 'Width', 'Turn.circle', 'Rear.seat.room', 'Luggage.room',\n",
      "       'Weight', 'Origin', 'Make'],\n",
      "      dtype='object')\n"
     ]
    }
   ],
   "source": [
    "print(data.keys())"
   ]
  },
  {
   "cell_type": "code",
   "execution_count": 5,
   "metadata": {},
   "outputs": [],
   "source": [
    "Y = np.array(data['Price'])\n",
    "columns = ['MPG.city', 'MPG.highway', 'EngineSize', 'Horsepower', 'RPM', 'Rev.per.mile', \n",
    "          'Fuel.tank.capacity', 'Length', 'Width', 'Turn.circle', 'Weight']\n",
    "X = np.array(data[columns])"
   ]
  },
  {
   "cell_type": "code",
   "execution_count": 6,
   "metadata": {},
   "outputs": [
    {
     "name": "stdout",
     "output_type": "stream",
     "text": [
      "(93,) (93, 11)\n"
     ]
    }
   ],
   "source": [
    "print(np.shape(Y), np.shape(X))"
   ]
  },
  {
   "cell_type": "markdown",
   "metadata": {},
   "source": [
    "# Un primer ajuste lineal con mínimos cuadrados"
   ]
  },
  {
   "cell_type": "code",
   "execution_count": 7,
   "metadata": {},
   "outputs": [
    {
     "name": "stdout",
     "output_type": "stream",
     "text": [
      "[-0.09749227  0.01704899  1.39323074  0.14090089 -0.00192575  0.00278482\n",
      "  0.15973715  0.17275455 -1.48506513 -0.4955841   0.00570524]\n",
      "0.7203097553950033\n"
     ]
    },
    {
     "data": {
      "image/png": "[encoded data removed]",
      "text/plain": [
       "<Figure size 432x288 with 1 Axes>"
      ]
     },
     "metadata": {
      "needs_background": "light"
     },
     "output_type": "display_data"
    }
   ],
   "source": [
    "regresion = sklearn.linear_model.LinearRegression()\n",
    "regresion.fit(X, Y)\n",
    "plt.scatter(X[:,3], Y)\n",
    "plt.scatter(X[:,3], regresion.predict(X), marker='^')\n",
    "plt.xlabel(columns[3])\n",
    "plt.ylabel('Price')\n",
    "#regresion.coef_ esta en el mismo orden que columnas\n",
    "print(regresion.coef_)\n",
    "print(regresion.score(X, Y))"
   ]
  },
  {
   "cell_type": "markdown",
   "metadata": {},
   "source": [
    "# Selección de los predictores menos importantes a partir de los coeficientes "
   ]
  },
  {
   "cell_type": "code",
   "execution_count": 8,
   "metadata": {},
   "outputs": [
    {
     "name": "stdout",
     "output_type": "stream",
     "text": [
      "RPM -0.0019257504559046896\n",
      "Rev.per.mile 0.0027848177463335494\n",
      "Weight 0.005705241174039462\n",
      "MPG.highway 0.01704899085195521\n",
      "MPG.city -0.09749226980237466\n",
      "Horsepower 0.14090088973596473\n",
      "Fuel.tank.capacity 0.15973714632714625\n",
      "Length 0.1727545507039382\n",
      "Turn.circle -0.4955841047125211\n",
      "EngineSize 1.3932307353328637\n",
      "Width -1.4850651343939458\n"
     ]
    }
   ],
   "source": [
    "ii = np.argsort(np.abs(regresion.coef_))\n",
    "for i in ii:\n",
    "    print(columns[i], regresion.coef_[i])"
   ]
  },
  {
   "cell_type": "markdown",
   "metadata": {},
   "source": [
    "# Renormalización de los datos para que todas las variables sean comparables"
   ]
  },
  {
   "cell_type": "code",
   "execution_count": 9,
   "metadata": {},
   "outputs": [],
   "source": [
    "scaler = sklearn.preprocessing.StandardScaler()\n",
    "scaler.fit(X)\n",
    "X_scaled = scaler.transform(X)"
   ]
  },
  {
   "cell_type": "code",
   "execution_count": 10,
   "metadata": {},
   "outputs": [
    {
     "name": "stdout",
     "output_type": "stream",
     "text": [
      "[-0.54493458  0.09041051  1.43749468  7.3398184  -1.14296137  1.37522633\n",
      "  0.52101334  2.50902869 -5.58178722 -1.5887873   3.34735886]\n",
      "0.7203097553950034\n"
     ]
    },
    {
     "data": {
      "image/png": "[encoded data removed]",
      "text/plain": [
       "<Figure size 432x288 with 1 Axes>"
      ]
     },
     "metadata": {
      "needs_background": "light"
     },
     "output_type": "display_data"
    }
   ],
   "source": [
    "regresion = sklearn.linear_model.LinearRegression()\n",
    "regresion.fit(X_scaled, Y)\n",
    "plt.scatter(X_scaled[:,3], Y)\n",
    "plt.scatter(X_scaled[:,3], regresion.predict(X_scaled), marker='^')\n",
    "plt.xlabel(columns[3])\n",
    "plt.ylabel('Price')\n",
    "print(regresion.coef_)\n",
    "print(regresion.score(X_scaled, Y))"
   ]
  },
  {
   "cell_type": "code",
   "execution_count": 11,
   "metadata": {},
   "outputs": [
    {
     "name": "stdout",
     "output_type": "stream",
     "text": [
      "MPG.highway 0.09041051486063534\n",
      "Fuel.tank.capacity 0.5210133395919417\n",
      "MPG.city -0.5449345836365029\n",
      "RPM -1.1429613658645192\n",
      "Rev.per.mile 1.3752263266684004\n",
      "EngineSize 1.4374946765397802\n",
      "Turn.circle -1.5887872965325665\n",
      "Length 2.50902869032578\n",
      "Weight 3.3473588588940046\n",
      "Width -5.5817872238306405\n",
      "Horsepower 7.339818399275947\n"
     ]
    }
   ],
   "source": [
    "ii = np.argsort(np.abs(regresion.coef_))\n",
    "for i in ii:\n",
    "    print(columns[i], regresion.coef_[i])"
   ]
  },
  {
   "cell_type": "markdown",
   "metadata": {},
   "source": [
    "# Regularización para reducir el número de predictores relevantes"
   ]
  },
  {
   "cell_type": "code",
   "execution_count": 14,
   "metadata": {},
   "outputs": [
    {
     "name": "stdout",
     "output_type": "stream",
     "text": [
      "[-0.         -0.36030952  0.          6.2774144   0.          0.\n",
      "  0.05270653  0.34022431 -0.45301057 -0.13254975  0.9659147 ]\n",
      "0.6419177402686429\n"
     ]
    },
    {
     "data": {
      "image/png": "[encoded data removed]",
      "text/plain": [
       "<Figure size 432x288 with 1 Axes>"
      ]
     },
     "metadata": {
      "needs_background": "light"
     },
     "output_type": "display_data"
    }
   ],
   "source": [
    "lasso = sklearn.linear_model.Lasso(alpha=0.5)\n",
    "lasso.fit(X_scaled, Y)\n",
    "plt.scatter(X_scaled[:,3], Y)\n",
    "plt.scatter(X_scaled[:,3], lasso.predict(X_scaled), marker='^')\n",
    "plt.xlabel(columns[3])\n",
    "plt.ylabel('Price')\n",
    "print(lasso.coef_)\n",
    "#score:r^2\n",
    "print(lasso.score(X_scaled, Y))\n",
    "#print(columns)"
   ]
  },
  {
   "cell_type": "code",
   "execution_count": 12,
   "metadata": {},
   "outputs": [
    {
     "name": "stdout",
     "output_type": "stream",
     "text": [
      "MPG.city -0.0\n",
      "EngineSize 0.0\n",
      "RPM 0.0\n",
      "Rev.per.mile 0.0\n",
      "Fuel.tank.capacity 0.052706534653788016\n",
      "Turn.circle -0.13254974891711782\n",
      "Length 0.3402243137262105\n",
      "MPG.highway -0.3603095214239592\n",
      "Width -0.4530105697741832\n",
      "Weight 0.9659147010130966\n",
      "Horsepower 6.277414401352371\n"
     ]
    }
   ],
   "source": [
    "ii = np.argsort(np.abs(lasso.coef_))\n",
    "for i in ii:\n",
    "    print(columns[i], lasso.coef_[i])"
   ]
  },
  {
   "cell_type": "code",
   "execution_count": null,
   "metadata": {},
   "outputs": [],
   "source": []
  }
 ],
 "metadata": {
  "kernelspec": {
   "display_name": "Python 3",
   "language": "python",
   "name": "python3"
  },
  "language_info": {
   "codemirror_mode": {
    "name": "ipython",
    "version": 3
   },
   "file_extension": ".py",
   "mimetype": "text/x-python",
   "name": "python",
   "nbconvert_exporter": "python",
   "pygments_lexer": "ipython3",
   "version": "3.7.4"
  }
 },
 "nbformat": 4,
 "nbformat_minor": 2
}
